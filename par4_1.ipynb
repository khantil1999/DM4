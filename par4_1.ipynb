{
 "cells": [
  {
   "cell_type": "code",
   "execution_count": 1,
   "metadata": {},
   "outputs": [],
   "source": [
    "import random\n",
    "import numpy as np\n"
   ]
  },
  {
   "cell_type": "code",
   "execution_count": 2,
   "metadata": {},
   "outputs": [
    {
     "name": "stdout",
     "output_type": "stream",
     "text": [
      "SIMPLE RANDOME WITHOUT REPLACEMENT: [31, 9, 3, 7, 45]\n"
     ]
    }
   ],
   "source": [
    "lst=[1,6,7,11,23,45,3,4,41,9,80,5,7,22,31];\n",
    "lst1=[1,6,7,11,23,45,3,4,4,6,7,8,41,9,80,5,7,22,31];\n",
    "print(\"SIMPLE RANDOME WITHOUT REPLACEMENT:\",random.sample(lst,5))"
   ]
  },
  {
   "cell_type": "code",
   "execution_count": 3,
   "metadata": {},
   "outputs": [
    {
     "name": "stdout",
     "output_type": "stream",
     "text": [
      "SIMPLE RANDOME WITH REPLACEMENT: [ 4  7  9  4  5 31]\n"
     ]
    }
   ],
   "source": [
    "print(\"SIMPLE RANDOME WITH REPLACEMENT:\",np.random.choice(lst1,6));"
   ]
  },
  {
   "cell_type": "code",
   "execution_count": 4,
   "metadata": {},
   "outputs": [
    {
     "name": "stdout",
     "output_type": "stream",
     "text": [
      "7\n"
     ]
    }
   ],
   "source": [
    "student_lst=[[1,'khantil',4,'mca'],[2,'patel',3,'bca'],[3,'kachhia',4,'mca'],[4,'yash',3,'mca'],[5,'saloni',4,'ec'],[6,'janki',5,'ce'],[7,'anand',5,'mca']]\n",
    "ls1=[];\n",
    "ls2=[];\n",
    "ls3=[];\n",
    "lst_length=len(student_lst);\n",
    "print(lst_length);"
   ]
  },
  {
   "cell_type": "code",
   "execution_count": 5,
   "metadata": {},
   "outputs": [
    {
     "name": "stdout",
     "output_type": "stream",
     "text": [
      "[1, 'khantil', 4, 'mca']\n",
      "[2, 'patel', 3, 'bca']\n",
      "[3, 'kachhia', 4, 'mca']\n",
      "[4, 'yash', 3, 'mca']\n",
      "[5, 'saloni', 4, 'ec']\n",
      "[6, 'janki', 5, 'ce']\n",
      "[7, 'anand', 5, 'mca']\n"
     ]
    }
   ],
   "source": [
    "\n",
    "for i in student_lst:\n",
    "    print(i);"
   ]
  },
  {
   "cell_type": "code",
   "execution_count": 6,
   "metadata": {},
   "outputs": [
    {
     "name": "stdout",
     "output_type": "stream",
     "text": [
      "[1, 'khantil', 4, 'mca']\n",
      "[2, 'patel', 3, 'bca']\n",
      "[3, 'kachhia', 4, 'mca']\n",
      "[4, 'yash', 3, 'mca']\n",
      "[5, 'saloni', 4, 'ec']\n",
      "[6, 'janki', 5, 'ce']\n",
      "[7, 'anand', 5, 'mca']\n",
      "GROUP OF SEM 3 STUDENT: [[2, 'patel', 3, 'bca'], [4, 'yash', 3, 'mca']]\n",
      "GROUP OF SEM 4 STUDENT: [[1, 'khantil', 4, 'mca'], [3, 'kachhia', 4, 'mca'], [5, 'saloni', 4, 'ec']]\n",
      "GROUP OF SEM 5 STUDENT: [[6, 'janki', 5, 'ce'], [7, 'anand', 5, 'mca']]\n"
     ]
    }
   ],
   "source": [
    "for j in range(0,len(student_lst)):\n",
    "    print(student_lst[j]);\n",
    "    if student_lst[j][2]==3:\n",
    "        \n",
    "        ls1.append(student_lst[j])\n",
    "    elif student_lst[j][2]==4:\n",
    "         ls2.append(student_lst[j])\n",
    "    elif student_lst[j][2]==5:\n",
    "         ls3.append(student_lst[j])\n",
    "\n",
    "print(\"GROUP OF SEM 3 STUDENT:\",ls1)\n",
    "print(\"GROUP OF SEM 4 STUDENT:\",ls2)\n",
    "print(\"GROUP OF SEM 5 STUDENT:\",ls3)\n",
    "        "
   ]
  },
  {
   "cell_type": "code",
   "execution_count": 7,
   "metadata": {},
   "outputs": [
    {
     "name": "stdout",
     "output_type": "stream",
     "text": [
      "[[[2, 'patel', 3, 'bca'], [4, 'yash', 3, 'mca']], [[1, 'khantil', 4, 'mca'], [3, 'kachhia', 4, 'mca'], [5, 'saloni', 4, 'ec']], [[6, 'janki', 5, 'ce'], [7, 'anand', 5, 'mca']]]\n"
     ]
    }
   ],
   "source": [
    "all_group=[ls1,ls2,ls3];\n"
   ]
  },
  {
   "cell_type": "code",
   "execution_count": 8,
   "metadata": {},
   "outputs": [
    {
     "name": "stdout",
     "output_type": "stream",
     "text": [
      "RANDOM: [[[6, 'janki', 5, 'ce'], [7, 'anand', 5, 'mca']], [[2, 'patel', 3, 'bca'], [4, 'yash', 3, 'mca']]]\n"
     ]
    }
   ],
   "source": [
    "print(\"RANDOM:\",random.sample(all_group,2));"
   ]
  },
  {
   "cell_type": "code",
   "execution_count": null,
   "metadata": {},
   "outputs": [],
   "source": []
  }
 ],
 "metadata": {
  "kernelspec": {
   "display_name": "Python 3",
   "language": "python",
   "name": "python3"
  },
  "language_info": {
   "codemirror_mode": {
    "name": "ipython",
    "version": 3
   },
   "file_extension": ".py",
   "mimetype": "text/x-python",
   "name": "python",
   "nbconvert_exporter": "python",
   "pygments_lexer": "ipython3",
   "version": "3.7.1"
  }
 },
 "nbformat": 4,
 "nbformat_minor": 2
}
